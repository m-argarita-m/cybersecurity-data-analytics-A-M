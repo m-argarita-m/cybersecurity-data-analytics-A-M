{
  "nbformat": 4,
  "nbformat_minor": 0,
  "metadata": {
    "colab": {
      "provenance": []
    },
    "kernelspec": {
      "name": "python3",
      "display_name": "Python 3"
    },
    "language_info": {
      "name": "python"
    },
    "accelerator": "TPU"
  },
  "cells": [
    {
      "cell_type": "markdown",
      "source": [
        "# Imports"
      ],
      "metadata": {
        "id": "F--a85jRVUKy"
      }
    },
    {
      "cell_type": "code",
      "execution_count": null,
      "metadata": {
        "id": "gWis1jCU_wZP",
        "colab": {
          "base_uri": "https://localhost:8080/"
        },
        "outputId": "2417b474-6ede-43f5-e9c1-952a882cf17b"
      },
      "outputs": [
        {
          "output_type": "stream",
          "name": "stdout",
          "text": [
            "Requirement already satisfied: zxcvbn in /usr/local/lib/python3.10/dist-packages (4.4.28)\n",
            "Drive already mounted at /content/drive; to attempt to forcibly remount, call drive.mount(\"/content/drive\", force_remount=True).\n"
          ]
        }
      ],
      "source": [
        "%pip install zxcvbn\n",
        "\n",
        "import tensorflow as tf\n",
        "from tensorflow.keras.models import Sequential\n",
        "from tensorflow.keras.layers import LSTM, Dense, Embedding\n",
        "from tensorflow.keras.preprocessing.text import Tokenizer\n",
        "from tensorflow.keras.preprocessing.sequence import pad_sequences\n",
        "from tensorflow.keras.optimizers import Adam\n",
        "from tensorflow.keras.layers import Dropout\n",
        "from tensorflow.keras.models import load_model\n",
        "import pandas as pd\n",
        "import numpy as np\n",
        "import matplotlib.pyplot as plt\n",
        "from sklearn.model_selection import train_test_split\n",
        "import random\n",
        "import os\n",
        "import json\n",
        "import pickle\n",
        "from zxcvbn import zxcvbn\n",
        "import seaborn as sns\n",
        "from google.colab import drive\n",
        "from matplotlib.colors import LinearSegmentedColormap\n",
        "\n",
        "drive.mount('/content/drive')"
      ]
    },
    {
      "cell_type": "markdown",
      "source": [
        "# Helper Functions"
      ],
      "metadata": {
        "id": "0z3JBVWEcL48"
      }
    },
    {
      "cell_type": "code",
      "source": [
        "def load_and_preprocess_data(file_path, num_samples):\n",
        "    with open(file_path, 'r', encoding='latin1', errors='ignore') as file:\n",
        "        lines = file.readlines()\n",
        "\n",
        "    passwords = [line.strip() for line in lines[:num_samples]]\n",
        "\n",
        "    return passwords\n",
        "\n",
        "def test_model(model, tokenizer, test_seq, max_length):\n",
        "    test_seq_tokenized = tokenizer.texts_to_sequences([test_seq])\n",
        "    test_seq_padded = pad_sequences(test_seq_tokenized, maxlen=max_length, padding='pre')\n",
        "\n",
        "    prediction = model.predict(test_seq_padded)\n",
        "\n",
        "    last_char_output = prediction[0]\n",
        "\n",
        "    is_probability_distribution = np.all(last_char_output >= 0) and np.isclose(np.sum(last_char_output), 1)\n",
        "\n",
        "    return last_char_output, is_probability_distribution\n",
        "\n",
        "def generate_new_password(model, tokenizer, max_length):\n",
        "    start_index = random.choice(list(tokenizer.word_index.values()))\n",
        "    sequence = [start_index]\n",
        "\n",
        "    for _ in range(max_length - 1):\n",
        "        padded_sequence = pad_sequences([sequence], maxlen=max_length, padding='pre')\n",
        "        predictions = model.predict(padded_sequence, verbose=0)[0]\n",
        "        next_char_index = np.random.choice(len(predictions), p=predictions)\n",
        "        if next_char_index == 0:\n",
        "            break\n",
        "        sequence.append(next_char_index)\n",
        "\n",
        "    generated_password = ''.join(tokenizer.sequences_to_texts([sequence])[0])\n",
        "    print('generated a password!')\n",
        "    return generated_password.strip()\n",
        "\n",
        "\n",
        "def calculate_password_probability(model, tokenizer, target_password, max_length):\n",
        "  sequence = []\n",
        "  probability = 1.0\n",
        "\n",
        "  for char in target_password:\n",
        "    padded_sequence = pad_sequences([sequence], maxlen=max_length, padding='pre')\n",
        "    predictions = model.predict(padded_sequence, verbose=0)[0]\n",
        "\n",
        "    char_index = tokenizer.word_index.get(char, 0)\n",
        "    probability *= predictions[char_index]\n",
        "\n",
        "    sequence.append(char_index)\n",
        "    if len(sequence) > max_length:\n",
        "      sequence = sequence[1:]\n",
        "  print('returning probability')\n",
        "  return probability\n",
        "\n",
        "def process_batch(model, tokenizer, passwords_batch, max_length):\n",
        "    batch_probabilities = {}\n",
        "    for pwd in passwords_batch:\n",
        "      pwd_probability = calculate_password_probability(model, tokenizer, pwd, max_length)\n",
        "      batch_probabilities[pwd] = pwd_probability\n",
        "    return batch_probabilities\n",
        "\n",
        "def calculate_probabilities_in_batches(model, tokenizer, passwords, max_length, batch_size=1000):\n",
        "    total_num_passwords = len(passwords)\n",
        "    all_probabilities = {}\n",
        "\n",
        "    for start_index in range(0, total_num_passwords, batch_size):\n",
        "      end_index = min(start_index + batch_size, total_num_passwords)\n",
        "      passwords_batch = passwords[start_index:end_index]\n",
        "      batch_probabilities = process_batch(model, tokenizer, passwords_batch, max_length)\n",
        "      all_probabilities.update(batch_probabilities)\n",
        "      print(f'Processed {end_index}/{total_num_passwords} passwords')\n",
        "\n",
        "    return all_probabilities\n",
        "\n",
        "def monte_carlo_to_determine_guess_number(target_password, passwords_probabilities):\n",
        "    target_probability = passwords_probabilities.get(target_password)\n",
        "\n",
        "    if target_probability is None:\n",
        "        target_probability = calculate_password_probability(model, tokenizer, target_password, max_sequence_len)\n",
        "\n",
        "    num_higher_prob = sum(1 for _, prob in passwords_probabilities.items() if prob > target_probability)\n",
        "\n",
        "    guess_number = num_higher_prob + 1\n",
        "\n",
        "    return guess_number\n",
        "\n",
        "def test_password_strength_via_monte_carlo_guess_number(target_password, passwords_probabilities):\n",
        "  estimated_guess_number = monte_carlo_to_determine_guess_number(target_password, passwords_probabilities)\n",
        "  strength_string, strength_number = assess_password_strength_with_guess_number(estimated_guess_number)\n",
        "  return strength_string, strength_number, estimated_guess_number\n",
        "\n",
        "def test_password_strength_via_zxcvbn(target_password):\n",
        "  zxcvbn_result = zxcvbn(target_password)\n",
        "  zxcvbn_strength_number = zxcvbn_result['score']\n",
        "  zxcvbn_guess_number = zxcvbn_result['guesses']\n",
        "\n",
        "  zxcvbn_string = ''\n",
        "  if zxcvbn_strength_number == 0:\n",
        "    zxcvbn_string = 'Very Weak'\n",
        "  elif zxcvbn_strength_number == 1:\n",
        "    zxcvbn_string = 'Weak'\n",
        "  elif zxcvbn_strength_number == 2:\n",
        "    zxcvbn_string = 'Average'\n",
        "  elif zxcvbn_strength_number == 3:\n",
        "    zxcvbn_string = 'Strong'\n",
        "  elif zxcvbn_strength_number == 4:\n",
        "    zxcvbn_string = 'Very Strong'\n",
        "\n",
        "  return zxcvbn_string, zxcvbn_strength_number, zxcvbn_guess_number\n",
        "\n",
        "def test_all_password_strengths(target_passwords_list, passwords_probabilities):\n",
        "  pswd_to_nn_strength = {}\n",
        "  pswd_to_zxcvbn_strength = {}\n",
        "  for target_password in target_passwords_list:\n",
        "    nn_strength_string, nn_strength_number, nn_guess_number = test_password_strength_via_monte_carlo_guess_number(target_password, passwords_probabilities)\n",
        "    zxcvbn_strength_string, zxcvbn_strength_number, zxcvbn_guess_number = test_password_strength_via_zxcvbn(target_password)\n",
        "    pswd_to_nn_strength[target_password] = [nn_strength_string, nn_strength_number, nn_guess_number]\n",
        "    pswd_to_zxcvbn_strength[target_password] = [zxcvbn_strength_string, zxcvbn_strength_number, zxcvbn_guess_number]\n",
        "\n",
        "  return pswd_to_nn_strength, pswd_to_zxcvbn_strength\n",
        "\n",
        "def assess_password_strength_with_guess_number(guess_number):\n",
        "    if guess_number < 1250:\n",
        "        return 'Very Weak', 0\n",
        "    elif guess_number < 2500:\n",
        "        return 'Weak', 1\n",
        "    elif guess_number < 3750:\n",
        "        return 'Average', 2\n",
        "    elif guess_number < 5000:\n",
        "        return 'Strong', 3\n",
        "    else:\n",
        "        return 'Very Strong', 4\n",
        "\n",
        "    # if guess_number < 610:\n",
        "    #     return 'Very Weak', 0\n",
        "    # elif guess_number < 2048:\n",
        "    #     return 'Weak', 1\n",
        "    # elif guess_number < 3407:\n",
        "    #     return 'Average', 2\n",
        "    # elif guess_number < 5000:\n",
        "    #     return 'Strong', 3\n",
        "    # else:\n",
        "    #     return 'Very Strong', 4\n",
        "\n",
        "# 25% of passwords have a guess number estimate less than 610.0\n",
        "# 50% of passwords have a guess number estimate less than 2048.0\n",
        "# 75% of passwords have a guess number estimate less than 3407.0\n",
        "# 99% of passwords have a guess number estimate less than 4004.0\n"
      ],
      "metadata": {
        "id": "w3UnU60lbOtD"
      },
      "execution_count": null,
      "outputs": []
    },
    {
      "cell_type": "markdown",
      "source": [
        "# Preprocessing Data"
      ],
      "metadata": {
        "id": "ec6wkpz7Y5MX"
      }
    },
    {
      "cell_type": "code",
      "source": [
        "# rockyou dataset link: https://www.kaggle.com/datasets/wjburns/common-password-list-rockyoutxt/\n",
        "\n",
        "path_to_rockyou_passwords_file = '/content/drive/Shareddrives/439 final project/rockyou.txt'\n",
        "passwords = load_and_preprocess_data(path_to_rockyou_passwords_file, 30000)"
      ],
      "metadata": {
        "id": "7vzeVtEGPyTC"
      },
      "execution_count": null,
      "outputs": []
    },
    {
      "cell_type": "code",
      "source": [
        "tokenizer = Tokenizer(char_level=True)\n",
        "tokenizer.fit_on_texts(passwords)\n",
        "sequences = tokenizer.texts_to_sequences(passwords)\n",
        "max_length = max([len(x) for x in sequences])\n",
        "\n",
        "# print(max_length)\n",
        "# print(passwords[0])\n",
        "# print(passwords[1])\n",
        "# print(sequences)"
      ],
      "metadata": {
        "id": "gGtXBI92_4pe"
      },
      "execution_count": null,
      "outputs": []
    },
    {
      "cell_type": "code",
      "source": [
        "# Pad sequences to ensure consistent input size\n",
        "sequences_padded = pad_sequences(sequences, maxlen=max_length, padding='post')\n",
        "for i in range(3):\n",
        "  print(sequences_padded[i])"
      ],
      "metadata": {
        "id": "QSPXGh4ZAw84",
        "colab": {
          "base_uri": "https://localhost:8080/"
        },
        "outputId": "448816db-132d-4448-91ab-59f4e61ff094"
      },
      "execution_count": null,
      "outputs": [
        {
          "output_type": "stream",
          "name": "stdout",
          "text": [
            "[ 9 15 25 30 29 31  0  0  0  0  0  0  0  0  0  0  0  0  0  0  0  0  0  0\n",
            "  0  0  0  0  0  0  0  0  0  0  0  0  0  0  0]\n",
            "[ 9 15 25 30 29  0  0  0  0  0  0  0  0  0  0  0  0  0  0  0  0  0  0  0\n",
            "  0  0  0  0  0  0  0  0  0  0  0  0  0  0  0]\n",
            "[ 9 15 25 30 29 31 32 23 24  0  0  0  0  0  0  0  0  0  0  0  0  0  0  0\n",
            "  0  0  0  0  0  0  0  0  0  0  0  0  0  0  0]\n"
          ]
        }
      ]
    },
    {
      "cell_type": "code",
      "source": [
        "vocab_size = len(tokenizer.word_index) + 1  # +1 for padding token\n",
        "vocab_size"
      ],
      "metadata": {
        "id": "dBzrt4zlA0UN",
        "colab": {
          "base_uri": "https://localhost:8080/"
        },
        "outputId": "c316e781-ca58-4097-df26-6452f9ba7184"
      },
      "execution_count": null,
      "outputs": [
        {
          "output_type": "execute_result",
          "data": {
            "text/plain": [
              "69"
            ]
          },
          "metadata": {},
          "execution_count": 81
        }
      ]
    },
    {
      "cell_type": "markdown",
      "source": [
        "# Training the Neural Network"
      ],
      "metadata": {
        "id": "xzLa-FcbZiwx"
      }
    },
    {
      "cell_type": "code",
      "source": [
        "model = Sequential([\n",
        "    Embedding(vocab_size, 50, input_length=max_length),\n",
        "    LSTM(128, return_sequences=True),\n",
        "    LSTM(128),\n",
        "    Dense(vocab_size, activation='softmax')\n",
        "])\n",
        "\n",
        "model.compile(loss='sparse_categorical_crossentropy', optimizer='adam', metrics=['accuracy'])\n",
        "\n",
        "model.summary()"
      ],
      "metadata": {
        "id": "RuG3a1stA2Ws",
        "colab": {
          "base_uri": "https://localhost:8080/"
        },
        "outputId": "41367496-0259-4d16-fcb5-280f5d64cfdc"
      },
      "execution_count": null,
      "outputs": [
        {
          "output_type": "stream",
          "name": "stdout",
          "text": [
            "Model: \"sequential_2\"\n",
            "_________________________________________________________________\n",
            " Layer (type)                Output Shape              Param #   \n",
            "=================================================================\n",
            " embedding_2 (Embedding)     (None, 39, 50)            3450      \n",
            "                                                                 \n",
            " lstm_4 (LSTM)               (None, 39, 128)           91648     \n",
            "                                                                 \n",
            " lstm_5 (LSTM)               (None, 128)               131584    \n",
            "                                                                 \n",
            " dense_2 (Dense)             (None, 69)                8901      \n",
            "                                                                 \n",
            "=================================================================\n",
            "Total params: 235,583\n",
            "Trainable params: 235,583\n",
            "Non-trainable params: 0\n",
            "_________________________________________________________________\n"
          ]
        }
      ]
    },
    {
      "cell_type": "code",
      "source": [
        "input_sequences = []\n",
        "next_chars = []\n",
        "\n",
        "for seq in sequences_padded:\n",
        "    for i in range(1, len(seq)):\n",
        "        input_sequences.append(seq[:i])\n",
        "        next_chars.append(seq[i])\n",
        "\n",
        "# Pad each sequence to the same length: the length of the longest sequence\n",
        "max_sequence_len = max([len(x) for x in input_sequences]) + 1 # to match max_length above\n",
        "input_sequences_padded = pad_sequences(input_sequences, maxlen=max_sequence_len, padding='pre')\n",
        "X = np.array(input_sequences_padded)\n",
        "y = np.array(next_chars)\n",
        "\n",
        "X = np.reshape(X, (X.shape[0], X.shape[1], 1))"
      ],
      "metadata": {
        "id": "zaYvb7BfA9W9"
      },
      "execution_count": null,
      "outputs": []
    },
    {
      "cell_type": "code",
      "source": [
        "X_train, X_val, y_train, y_val = train_test_split(X, y, test_size=0.2, random_state=42)\n",
        "len(X_train)"
      ],
      "metadata": {
        "id": "UpC9x2AV5naw",
        "colab": {
          "base_uri": "https://localhost:8080/"
        },
        "outputId": "23aebfe5-e47f-45ae-efe8-89ffa89ac4fc"
      },
      "execution_count": null,
      "outputs": [
        {
          "output_type": "execute_result",
          "data": {
            "text/plain": [
              "912000"
            ]
          },
          "metadata": {},
          "execution_count": 84
        }
      ]
    },
    {
      "cell_type": "code",
      "source": [
        "model_save_path = '/content/drive/Shareddrives/439 final project/my_nn_password_strength_assessor_model.h5'\n",
        "history_save_path = '/content/drive/Shareddrives/439 final project/model_history.pkl'\n",
        "\n",
        "# Check if the model file exists\n",
        "if os.path.exists(model_save_path):\n",
        "    model = load_model(model_save_path)\n",
        "    if os.path.exists(history_save_path):\n",
        "      with open(history_save_path, 'rb') as file:\n",
        "        history = pickle.load(file)\n",
        "    else:\n",
        "      history = None\n",
        "else:\n",
        "    X_train, X_val, y_train, y_val = train_test_split(X, y, test_size=0.2, random_state=42)\n",
        "    history = model.fit(X_train, y_train, epochs=2, batch_size=128, validation_data=(X_val, y_val))\n",
        "\n",
        "    model.save(model_save_path)\n",
        "    with open(history_save_path, 'wb') as file:\n",
        "      pickle.dump(history.history, file)\n"
      ],
      "metadata": {
        "id": "iCqK4q_oBlEN"
      },
      "execution_count": null,
      "outputs": []
    },
    {
      "cell_type": "code",
      "source": [
        "test_sequence = 'flipper'\n",
        "output, is_prob_dist = test_model(model, tokenizer, test_sequence, max_sequence_len)\n",
        "\n",
        "print(f'Output: {output}')\n",
        "print(f'len(Output): {len(output)}')\n",
        "print(f'Is a probability distribution: {is_prob_dist}')\n"
      ],
      "metadata": {
        "id": "I02IDM8puBkJ",
        "colab": {
          "base_uri": "https://localhost:8080/"
        },
        "outputId": "8f8bd4e1-6d2c-4544-d2db-91a421436363"
      },
      "execution_count": null,
      "outputs": [
        {
          "output_type": "stream",
          "name": "stdout",
          "text": [
            "1/1 [==============================] - 3s 3s/step\n",
            "Output: [3.00433666e-01 1.08922180e-02 1.28464419e-02 1.04905013e-02\n",
            " 7.37360492e-03 2.35752650e-02 5.33658732e-03 4.00055572e-02\n",
            " 2.04544157e-01 1.19120628e-01 3.69347781e-02 1.43824276e-02\n",
            " 7.46925827e-03 1.34941125e-02 8.35589599e-03 3.78026292e-02\n",
            " 4.10490809e-03 2.86785048e-02 5.46848122e-03 1.69880483e-02\n",
            " 9.19393823e-03 8.18945374e-03 7.92813394e-03 6.54542539e-03\n",
            " 3.96727910e-03 7.29365880e-03 6.38647994e-04 1.07337059e-02\n",
            " 1.85831112e-03 4.63203713e-03 2.89752986e-03 3.72242741e-03\n",
            " 1.03237201e-02 8.09251156e-04 6.10852800e-03 1.07084052e-03\n",
            " 2.71222641e-04 3.92253976e-03 9.56473959e-05 4.14865790e-04\n",
            " 5.05038770e-04 2.62384739e-04 5.93946534e-05 4.40396116e-06\n",
            " 3.57119643e-05 3.51025192e-05 2.42868755e-05 5.69187068e-06\n",
            " 8.63966670e-06 4.51238748e-07 5.18848128e-06 2.54055635e-06\n",
            " 6.73440518e-05 3.26447298e-06 9.81787798e-06 1.17384989e-05\n",
            " 8.99831412e-06 6.77143225e-06 5.05304888e-06 5.25645419e-06\n",
            " 1.35731369e-07 2.29261104e-06 1.91097115e-07 7.37063033e-07\n",
            " 6.29503802e-07 1.51180942e-07 8.02256909e-06 1.22874070e-07\n",
            " 5.85452153e-06]\n",
            "len(Output): 69\n",
            "Is a probability distribution: True\n"
          ]
        }
      ]
    },
    {
      "cell_type": "code",
      "source": [
        "if history:\n",
        "  # Plot training & validation accuracy values\n",
        "  plt.plot(history.history['accuracy'])\n",
        "  plt.plot(history.history['val_accuracy'])\n",
        "  plt.title('Model accuracy')\n",
        "  plt.ylabel('Accuracy')\n",
        "  plt.xlabel('Epoch')\n",
        "  plt.legend(['Train', 'Validation'], loc='upper left')\n",
        "  plt.show()\n",
        "\n",
        "  # Plot training & validation loss values\n",
        "  plt.plot(history.history['loss'])\n",
        "  plt.plot(history.history['val_loss'])\n",
        "  plt.title('Model loss')\n",
        "  plt.ylabel('Loss')\n",
        "  plt.xlabel('Epoch')\n",
        "  plt.legend(['Train', 'Validation'], loc='upper left')\n",
        "  plt.show()\n"
      ],
      "metadata": {
        "id": "ODDQvstABoZW"
      },
      "execution_count": null,
      "outputs": []
    },
    {
      "cell_type": "markdown",
      "source": [
        "# Monte Carlo Method for Estimating Guess Numbers"
      ],
      "metadata": {
        "id": "RDZFnk6lcTMM"
      }
    },
    {
      "cell_type": "code",
      "source": [
        "generated_passwords_file_path = '/content/drive/Shareddrives/439 final project/generated_passwords_list.txt'\n",
        "\n",
        "if not os.path.exists(generated_passwords_file_path):\n",
        "  num_passwords_to_generate = 1000\n",
        "  generated_passwords_list = [generate_new_password(model, tokenizer, max_sequence_len) for _ in range(num_passwords_to_generate)]\n",
        "\n",
        "  print(generated_passwords_list[:10])\n",
        "\n",
        "  with open(generated_passwords_file_path, 'w') as file:\n",
        "    for password in generated_passwords_list:\n",
        "      file.write('%s\\n' % password)\n",
        "\n",
        "    print('Generated passwords have been saved to generated_passwords_list.txt')\n",
        "else:\n",
        "    with open(generated_passwords_file_path, 'r') as file:\n",
        "      generated_passwords_list = file.read().splitlines()\n",
        "\n",
        "    print('Loaded generated passwords from generated_passwords_list.txt')\n"
      ],
      "metadata": {
        "id": "MeDeIby_IEim",
        "colab": {
          "base_uri": "https://localhost:8080/"
        },
        "outputId": "283f0f13-d12a-4f6b-b04c-0586791bf673"
      },
      "execution_count": null,
      "outputs": [
        {
          "output_type": "stream",
          "name": "stdout",
          "text": [
            "Loaded generated passwords from generated_passwords_list.txt\n"
          ]
        }
      ]
    },
    {
      "cell_type": "code",
      "source": [
        "probabilities_file_path = '/content/drive/Shareddrives/439 final project/passwords_probabilities.pkl'\n",
        "if os.path.exists(probabilities_file_path):\n",
        "  with open(probabilities_file_path, 'rb') as file:\n",
        "    passwords_probabilities = pickle.load(file)\n",
        "else:\n",
        "  sample_passwords = passwords[:4000] + generated_passwords_list\n",
        "  passwords_probabilities = calculate_probabilities_in_batches(model, tokenizer, sample_passwords, max_sequence_len)\n",
        "  with open(probabilities_file_path, 'wb') as file:\n",
        "    pickle.dump(passwords_probabilities, file)"
      ],
      "metadata": {
        "id": "1D62HJrDw6vU"
      },
      "execution_count": null,
      "outputs": []
    },
    {
      "cell_type": "code",
      "source": [
        "target_password = \"examplepassword\"\n",
        "estimated_guess_number = monte_carlo_to_determine_guess_number(target_password, passwords_probabilities)\n",
        "print(\"Estimated Guess Number for target password:\", estimated_guess_number)\n",
        "\n",
        "target_password = \"123456\"\n",
        "estimated_guess_number = monte_carlo_to_determine_guess_number(target_password, passwords_probabilities)\n",
        "print(\"Estimated Guess Number for target password:\", estimated_guess_number)\n",
        "\n",
        "target_password = \"password\"\n",
        "estimated_guess_number = monte_carlo_to_determine_guess_number(target_password, passwords_probabilities)\n",
        "print(\"Estimated Guess Number for target password:\", estimated_guess_number)\n",
        "\n",
        "target_password = \"areallyreallystrongpa$$w)rD\"\n",
        "estimated_guess_number = monte_carlo_to_determine_guess_number(target_password, passwords_probabilities)\n",
        "print(\"Estimated Guess Number for target password:\", estimated_guess_number)"
      ],
      "metadata": {
        "id": "6XIdqJkwKOgS",
        "colab": {
          "base_uri": "https://localhost:8080/"
        },
        "outputId": "2d22557f-b899-4727-aa40-125b4bc2b348"
      },
      "execution_count": null,
      "outputs": [
        {
          "output_type": "stream",
          "name": "stdout",
          "text": [
            "returning probability\n",
            "Estimated Guess Number for target password: 4004\n",
            "Estimated Guess Number for target password: 29\n",
            "Estimated Guess Number for target password: 1691\n",
            "returning probability\n",
            "Estimated Guess Number for target password: 4915\n"
          ]
        }
      ]
    },
    {
      "cell_type": "markdown",
      "source": [
        "# Results / Conclusion"
      ],
      "metadata": {
        "id": "27r3RJ54c0Z4"
      }
    },
    {
      "cell_type": "code",
      "source": [
        "path_to_phpbb_passwords_file = '/content/drive/Shareddrives/439 final project/phpbb.txt'\n",
        "phpbb_passwords = load_and_preprocess_data(path_to_phpbb_passwords_file, 500)\n",
        "\n",
        "path_to_faith_passwords_file = '/content/drive/Shareddrives/439 final project/faithwriters.txt'\n",
        "faith_passwords = load_and_preprocess_data(path_to_faith_passwords_file, 500)\n",
        "\n",
        "test_passwords = phpbb_passwords + faith_passwords + ['vanillacakepop', 'ohmanohmanohman', 'peterpiperporter']"
      ],
      "metadata": {
        "id": "5d9-FUgtGw1c"
      },
      "execution_count": null,
      "outputs": []
    },
    {
      "cell_type": "code",
      "source": [
        "nn_strength, zxcvbn_strength = test_all_password_strengths(test_passwords, passwords_probabilities)"
      ],
      "metadata": {
        "id": "iBuFP7HGC0GU"
      },
      "execution_count": null,
      "outputs": []
    },
    {
      "cell_type": "code",
      "source": [
        "guess_estimates = [value[2] for value in nn_strength.values()]\n",
        "\n",
        "sorted_estimates = sorted(guess_estimates)\n",
        "\n",
        "x = np.percentile(sorted_estimates, 25)\n",
        "y = np.percentile(sorted_estimates, 50)\n",
        "z = np.percentile(sorted_estimates, 75)\n",
        "q = np.percentile(sorted_estimates, 99)\n",
        "\n",
        "print(f\"25% of passwords have a guess number estimate less than {x}\")\n",
        "print(f\"50% of passwords have a guess number estimate less than {y}\")\n",
        "print(f\"75% of passwords have a guess number estimate less than {z}\")\n",
        "print(f\"99% of passwords have a guess number estimate less than {q}\")"
      ],
      "metadata": {
        "colab": {
          "base_uri": "https://localhost:8080/"
        },
        "id": "cXWwXc_14psZ",
        "outputId": "1f89a918-2395-4c35-9773-d42c5f4b999d"
      },
      "execution_count": null,
      "outputs": [
        {
          "output_type": "stream",
          "name": "stdout",
          "text": [
            "25% of passwords have a guess number estimate less than 611.75\n",
            "50% of passwords have a guess number estimate less than 2058.5\n",
            "75% of passwords have a guess number estimate less than 3419.75\n",
            "99% of passwords have a guess number estimate less than 4008.11\n"
          ]
        }
      ]
    },
    {
      "cell_type": "code",
      "source": [
        "count_scores_diff_by_0 = 0\n",
        "count_scores_diff_by_1 = 0\n",
        "count_scores_diff_by_2 = 0\n",
        "count_scores_diff_by_3 = 0\n",
        "count_scores_diff_by_4 = 0\n",
        "count_scores_nn_gt_zxcvbn = 0\n",
        "count_scores_nn_lt_zxcvbn = 0\n",
        "count_scores_nn_eq_zxcvbn = 0\n",
        "\n",
        "for pswd in test_passwords:\n",
        "  nn_result = nn_strength[pswd]\n",
        "  zxcvbn_result = zxcvbn_strength[pswd]\n",
        "  nn_strength_string = nn_result[0]\n",
        "  nn_strength_number = nn_result[1]\n",
        "  nn_guess_number = nn_result[2]\n",
        "  zxcvbn_strength_string = zxcvbn_result[0]\n",
        "  zxcvbn_strength_number = zxcvbn_result[1]\n",
        "  zxcvbn_guess_number = zxcvbn_result[2]\n",
        "\n",
        "  score_difference = abs(zxcvbn_strength_number - nn_strength_number)\n",
        "\n",
        "  if score_difference == 0:\n",
        "    count_scores_diff_by_0 += 1\n",
        "  elif score_difference == 1:\n",
        "    count_scores_diff_by_1 += 1\n",
        "  elif score_difference == 2:\n",
        "    count_scores_diff_by_2 += 1\n",
        "  elif score_difference == 3:\n",
        "    count_scores_diff_by_3 += 1\n",
        "  elif score_difference == 4:\n",
        "    count_scores_diff_by_4 += 1\n",
        "\n",
        "  if nn_strength_number > zxcvbn_strength_number:\n",
        "    count_scores_nn_gt_zxcvbn += 1\n",
        "  elif nn_strength_number < zxcvbn_strength_number:\n",
        "    count_scores_nn_lt_zxcvbn += 1\n",
        "  else:\n",
        "    count_scores_nn_eq_zxcvbn += 1\n",
        "\n",
        "  if pswd == 'ohmanohmanohman':\n",
        "    print(f'PASSWORD: {pswd}')\n",
        "    print(f'NN Strength: {nn_strength_string} - {nn_strength_number}')\n",
        "    print(f'ZXCVBN: {zxcvbn_strength_string} - {zxcvbn_strength_number}')\n",
        "\n",
        "print(f'\\nScores differed by 0: {count_scores_diff_by_0}')\n",
        "print(f'Scores differed by 1: {count_scores_diff_by_1}')\n",
        "print(f'Scores differed by 2: {count_scores_diff_by_2}')\n",
        "print(f'Scores differed by 3: {count_scores_diff_by_3}')\n",
        "print(f'Scores differed by 4: {count_scores_diff_by_4}')\n",
        "print(f'NN gave stronger score than ZXCVBN: {count_scores_nn_gt_zxcvbn}')\n",
        "print(f'NN gave weaker score than ZXCVBN: {count_scores_nn_lt_zxcvbn}')\n",
        "print(f'NN gave equal score than ZXCVBN: {count_scores_nn_eq_zxcvbn}')"
      ],
      "metadata": {
        "id": "wHQD-k6FU8jr",
        "colab": {
          "base_uri": "https://localhost:8080/"
        },
        "outputId": "18056773-9ff1-4b0f-b6d7-5aff17ac1f67"
      },
      "execution_count": null,
      "outputs": [
        {
          "output_type": "stream",
          "name": "stdout",
          "text": [
            "PASSWORD: ohmanohmanohman\n",
            "NN Strength: Strong - 3\n",
            "ZXCVBN: Weak - 1\n",
            "\n",
            "Scores differed by 0: 313\n",
            "Scores differed by 1: 504\n",
            "Scores differed by 2: 158\n",
            "Scores differed by 3: 28\n",
            "Scores differed by 4: 0\n",
            "NN gave stronger score than ZXCVBN: 481\n",
            "NN gave weaker score than ZXCVBN: 209\n",
            "NN gave equal score than ZXCVBN: 313\n"
          ]
        }
      ]
    },
    {
      "cell_type": "code",
      "source": [
        "categories = ['Scores differed by 0', 'Scores differed by 1', 'Scores differed by 2', 'Scores differed by 3', 'Scores differed by 4']\n",
        "counts = [count_scores_diff_by_0, count_scores_diff_by_1, count_scores_diff_by_2, count_scores_diff_by_3, count_scores_diff_by_4]\n",
        "\n",
        "plt.figure(figsize=(10, 6))\n",
        "plt.bar(categories, counts, color='skyblue')\n",
        "plt.xlabel('Categories')\n",
        "plt.ylabel('Counts')\n",
        "plt.title('Bar Chart of Scores Comparison')\n",
        "plt.xticks(rotation=45)\n",
        "plt.tight_layout()\n",
        "\n",
        "plt.show()"
      ],
      "metadata": {
        "colab": {
          "base_uri": "https://localhost:8080/",
          "height": 607
        },
        "id": "Rk5bHuG-viAv",
        "outputId": "55a09dea-5cf5-49b8-d729-2666f3e11323"
      },
      "execution_count": null,
      "outputs": [
        {
          "output_type": "display_data",
          "data": {
            "text/plain": [
              "<Figure size 1000x600 with 1 Axes>"
            ],
            "image/png": "[encoded data removed]"
          },
          "metadata": {}
        }
      ]
    },
    {
      "cell_type": "code",
      "source": [
        "categories = ['NN stronger than ZXCVBN', 'NN equal to ZXCVBN', 'NN weaker than ZXCVBN']\n",
        "counts = [count_scores_nn_gt_zxcvbn, count_scores_nn_eq_zxcvbn, count_scores_nn_lt_zxcvbn]\n",
        "\n",
        "plt.figure(figsize=(10, 6))\n",
        "plt.bar(categories, counts, color='skyblue')\n",
        "plt.xlabel('Categories')\n",
        "plt.ylabel('Counts')\n",
        "plt.title('Bar Chart of Scores Comparison')\n",
        "plt.xticks(rotation=45)\n",
        "plt.tight_layout()\n",
        "\n",
        "plt.show()"
      ],
      "metadata": {
        "colab": {
          "base_uri": "https://localhost:8080/",
          "height": 607
        },
        "id": "0vVFO9DdvmwN",
        "outputId": "1e5c26ad-4d8f-4425-a320-6c5ca77cea20"
      },
      "execution_count": null,
      "outputs": [
        {
          "output_type": "display_data",
          "data": {
            "text/plain": [
              "<Figure size 1000x600 with 1 Axes>"
            ],
            "image/png": "[encoded data removed]"
          },
          "metadata": {}
        }
      ]
    },
    {
      "cell_type": "code",
      "source": [],
      "metadata": {
        "id": "CAx7v-5o-W9t"
      },
      "execution_count": null,
      "outputs": []
    }
  ]
}